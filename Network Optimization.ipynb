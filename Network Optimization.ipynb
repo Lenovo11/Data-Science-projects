{
 "cells": [
  {
   "cell_type": "markdown",
   "id": "802ece86",
   "metadata": {},
   "source": [
    "# Network optimization using linear programming"
   ]
  },
  {
   "cell_type": "markdown",
   "id": "c2ea3173",
   "metadata": {},
   "source": [
    "## Objective\n",
    "There are 8 suppliers and 9 plants to be served. Based on shipping rates between each plant-supplier node, demand for each plant and capacity of each supplier, optimize network to minimize shipping cost"
   ]
  },
  {
   "cell_type": "code",
   "execution_count": 1,
   "id": "d92d18bf",
   "metadata": {},
   "outputs": [],
   "source": [
    "from pulp import *\n",
    "import pandas as pd\n",
    "import numpy as np"
   ]
  },
  {
   "cell_type": "code",
   "execution_count": 2,
   "id": "d70f9a46",
   "metadata": {},
   "outputs": [],
   "source": [
    "Plants= ['Plant1','Plant2','Plant3','Plant4','Plant5','Plant6','Plant7','Plant8','Plant9']\n",
    "Suppliers= ['Supplier1', 'Supplier2','Supplier3','Supplier4','Supplier5','Supplier6','Supplier7','Supplier8'] \n"
   ]
  },
  {
   "cell_type": "code",
   "execution_count": 3,
   "id": "b9633bbd",
   "metadata": {},
   "outputs": [],
   "source": [
    "supply_cost=[130,130,1000,1000,1000,120,150,170,\n",
    "             130,110,1000,1000,1000,120,150,170,\n",
    "             180,150,1000,1000,1000,190,180,210,\n",
    "130,130,1000,1000,170,120,150,170,\n",
    "235,280,1000,120,1000,210,1000,190,\n",
    "380,395,1000,140,1000,280,1000,290,\n",
    "195,175,140,1000,150,150,1000,170,\n",
    "265,355,200,80,1000,260,1000,260,\n",
    "1000,1000,1000,70,1000,1000,1000,1000]                 #supply cost per ton for each plant-supplier combination"
   ]
  },
  {
   "cell_type": "code",
   "execution_count": 4,
   "id": "fcd0037e",
   "metadata": {},
   "outputs": [],
   "source": [
    "Capacity=[8000,4000,3000,25000,6000,3000,7000,4000]                    #Capacity/Vol in Ton"
   ]
  },
  {
   "cell_type": "code",
   "execution_count": 5,
   "id": "bf8644bc",
   "metadata": {},
   "outputs": [],
   "source": [
    "dem_values=[5442, 7644, 5306, 715, 12071, 5028, 7523, 6770, 2332]      #Vol in Ton"
   ]
  },
  {
   "cell_type": "code",
   "execution_count": 6,
   "id": "539ef04d",
   "metadata": {},
   "outputs": [
    {
     "data": {
      "text/plain": [
       "60000"
      ]
     },
     "execution_count": 6,
     "metadata": {},
     "output_type": "execute_result"
    }
   ],
   "source": [
    "sum(Capacity)"
   ]
  },
  {
   "cell_type": "code",
   "execution_count": 7,
   "id": "6bc8850e",
   "metadata": {},
   "outputs": [],
   "source": [
    "keys=[(p,s) for p in Plants for s in Suppliers]"
   ]
  },
  {
   "cell_type": "code",
   "execution_count": 8,
   "id": "d2496551",
   "metadata": {},
   "outputs": [],
   "source": [
    "cost=dict(zip(keys,supply_cost))"
   ]
  },
  {
   "cell_type": "code",
   "execution_count": 9,
   "id": "52a42460",
   "metadata": {},
   "outputs": [],
   "source": [
    "sup_cap= dict(zip(Suppliers,Capacity))"
   ]
  },
  {
   "cell_type": "code",
   "execution_count": 10,
   "id": "bd4b68dd",
   "metadata": {},
   "outputs": [],
   "source": [
    "demand_keys=Plants"
   ]
  },
  {
   "cell_type": "code",
   "execution_count": 11,
   "id": "bdc3694e",
   "metadata": {},
   "outputs": [],
   "source": [
    "demand= dict(zip(demand_keys,dem_values))"
   ]
  },
  {
   "cell_type": "code",
   "execution_count": 12,
   "id": "c42c511a",
   "metadata": {},
   "outputs": [],
   "source": [
    "model=LpProblem('sugar_network', LpMinimize)"
   ]
  },
  {
   "cell_type": "code",
   "execution_count": 13,
   "id": "1402f0d7",
   "metadata": {},
   "outputs": [],
   "source": [
    "#Var is qty to be shipped from supplier to plant. Only keys are index here\n",
    "\n",
    "supply_qty= LpVariable.dicts('qty',keys,0, None, 'Integer')  "
   ]
  },
  {
   "cell_type": "code",
   "execution_count": 14,
   "id": "ddef1673",
   "metadata": {},
   "outputs": [],
   "source": [
    "model+=lpSum(supply_qty[p,s]*cost[p,s] for p in Plants for s in Suppliers)"
   ]
  },
  {
   "cell_type": "markdown",
   "id": "716d005b",
   "metadata": {},
   "source": [
    "## Demand Constraint- The total qty shipped from each supp. >= demand of that plant"
   ]
  },
  {
   "cell_type": "raw",
   "id": "c9a6fec7",
   "metadata": {},
   "source": [
    "for p in Plants:\n",
    "    model+=(supply_qty[p,'Supplier1']++supply_qty[p,'Supplier2']+supply_qty[p,'Supplier3']+supply_qty[p,'Supplier4']+supply_qty[p,'Supplier5']+\n",
    "    supply_qty[p,'Supplier6']+supply_qty[p,'Supplier7']+supply_qty[p,'Supplier8']) >=demand[p]"
   ]
  },
  {
   "cell_type": "code",
   "execution_count": 15,
   "id": "204d6b71",
   "metadata": {},
   "outputs": [],
   "source": [
    "for p in Plants:\n",
    "    for s in Suppliers:\n",
    "        model+=(supply_qty[p,s]) >=demand[p]"
   ]
  },
  {
   "cell_type": "raw",
   "id": "6f459b4c",
   "metadata": {},
   "source": [
    "#Supply Constraint-Total qty shipped from suppler <= capacity of that supplier\n",
    "\n",
    "for s in Suppliers:\n",
    "    model+=supply_qty[,s]+supply_qty[,s]+supply_qty[,s]+supply_qty[,s]+supply_qty[,s]\n",
    "    +supply_qty[,s]+supply_qty[,s]+supply_qty[,s]+supply_qty[,s]\n",
    "\n",
    "<=sup_cap[s]"
   ]
  },
  {
   "cell_type": "code",
   "execution_count": 16,
   "id": "9a1ac1ee",
   "metadata": {},
   "outputs": [],
   "source": [
    "for s in Suppliers:\n",
    "    for p in Plants:\n",
    "        model+=supply_qty[p,s]<=sup_cap[s]"
   ]
  },
  {
   "cell_type": "code",
   "execution_count": 17,
   "id": "c05a94b6",
   "metadata": {},
   "outputs": [
    {
     "data": {
      "text/plain": [
       "-1"
      ]
     },
     "execution_count": 17,
     "metadata": {},
     "output_type": "execute_result"
    }
   ],
   "source": [
    "model.solve()"
   ]
  },
  {
   "cell_type": "code",
   "execution_count": 19,
   "id": "7031f6f4",
   "metadata": {},
   "outputs": [
    {
     "name": "stdout",
     "output_type": "stream",
     "text": [
      "('Plant1', 'Supplier1') Supply qty = 0.0\n",
      "('Plant1', 'Supplier2') Supply qty = 0.0\n",
      "('Plant1', 'Supplier3') Supply qty = 0.0\n",
      "('Plant1', 'Supplier4') Supply qty = 0.0\n",
      "('Plant1', 'Supplier5') Supply qty = 0.0\n",
      "('Plant1', 'Supplier6') Supply qty = 0.0\n",
      "('Plant1', 'Supplier7') Supply qty = 0.0\n",
      "('Plant1', 'Supplier8') Supply qty = 0.0\n",
      "('Plant2', 'Supplier1') Supply qty = 7644.0\n",
      "('Plant2', 'Supplier2') Supply qty = 7644.0\n",
      "('Plant2', 'Supplier3') Supply qty = 7644.0\n",
      "('Plant2', 'Supplier4') Supply qty = 7644.0\n",
      "('Plant2', 'Supplier5') Supply qty = 7644.0\n",
      "('Plant2', 'Supplier6') Supply qty = 7644.0\n",
      "('Plant2', 'Supplier7') Supply qty = 7644.0\n",
      "('Plant2', 'Supplier8') Supply qty = 7644.0\n",
      "('Plant3', 'Supplier1') Supply qty = 0.0\n",
      "('Plant3', 'Supplier2') Supply qty = 0.0\n",
      "('Plant3', 'Supplier3') Supply qty = 0.0\n",
      "('Plant3', 'Supplier4') Supply qty = 0.0\n",
      "('Plant3', 'Supplier5') Supply qty = 0.0\n",
      "('Plant3', 'Supplier6') Supply qty = 0.0\n",
      "('Plant3', 'Supplier7') Supply qty = 0.0\n",
      "('Plant3', 'Supplier8') Supply qty = 0.0\n",
      "('Plant4', 'Supplier1') Supply qty = 0.0\n",
      "('Plant4', 'Supplier2') Supply qty = 0.0\n",
      "('Plant4', 'Supplier3') Supply qty = 0.0\n",
      "('Plant4', 'Supplier4') Supply qty = 0.0\n",
      "('Plant4', 'Supplier5') Supply qty = 0.0\n",
      "('Plant4', 'Supplier6') Supply qty = 0.0\n",
      "('Plant4', 'Supplier7') Supply qty = 0.0\n",
      "('Plant4', 'Supplier8') Supply qty = 0.0\n",
      "('Plant5', 'Supplier1') Supply qty = 12071.0\n",
      "('Plant5', 'Supplier2') Supply qty = 12071.0\n",
      "('Plant5', 'Supplier3') Supply qty = 12071.0\n",
      "('Plant5', 'Supplier4') Supply qty = 12071.0\n",
      "('Plant5', 'Supplier5') Supply qty = 12071.0\n",
      "('Plant5', 'Supplier6') Supply qty = 12071.0\n",
      "('Plant5', 'Supplier7') Supply qty = 12071.0\n",
      "('Plant5', 'Supplier8') Supply qty = 12071.0\n",
      "('Plant6', 'Supplier1') Supply qty = 0.0\n",
      "('Plant6', 'Supplier2') Supply qty = 0.0\n",
      "('Plant6', 'Supplier3') Supply qty = 0.0\n",
      "('Plant6', 'Supplier4') Supply qty = 0.0\n",
      "('Plant6', 'Supplier5') Supply qty = 0.0\n",
      "('Plant6', 'Supplier6') Supply qty = 0.0\n",
      "('Plant6', 'Supplier7') Supply qty = 0.0\n",
      "('Plant6', 'Supplier8') Supply qty = 0.0\n",
      "('Plant7', 'Supplier1') Supply qty = 7523.0\n",
      "('Plant7', 'Supplier2') Supply qty = 7523.0\n",
      "('Plant7', 'Supplier3') Supply qty = 7523.0\n",
      "('Plant7', 'Supplier4') Supply qty = 7523.0\n",
      "('Plant7', 'Supplier5') Supply qty = 7523.0\n",
      "('Plant7', 'Supplier6') Supply qty = 7523.0\n",
      "('Plant7', 'Supplier7') Supply qty = 7523.0\n",
      "('Plant7', 'Supplier8') Supply qty = 7523.0\n",
      "('Plant8', 'Supplier1') Supply qty = 6770.0\n",
      "('Plant8', 'Supplier2') Supply qty = 6770.0\n",
      "('Plant8', 'Supplier3') Supply qty = 6770.0\n",
      "('Plant8', 'Supplier4') Supply qty = 6770.0\n",
      "('Plant8', 'Supplier5') Supply qty = 6770.0\n",
      "('Plant8', 'Supplier6') Supply qty = 6770.0\n",
      "('Plant8', 'Supplier7') Supply qty = 6770.0\n",
      "('Plant8', 'Supplier8') Supply qty = 6770.0\n",
      "('Plant9', 'Supplier1') Supply qty = 0.0\n",
      "('Plant9', 'Supplier2') Supply qty = 0.0\n",
      "('Plant9', 'Supplier3') Supply qty = 0.0\n",
      "('Plant9', 'Supplier4') Supply qty = 0.0\n",
      "('Plant9', 'Supplier5') Supply qty = 0.0\n",
      "('Plant9', 'Supplier6') Supply qty = 0.0\n",
      "('Plant9', 'Supplier7') Supply qty = 0.0\n",
      "('Plant9', 'Supplier8') Supply qty = 0.0\n"
     ]
    }
   ],
   "source": [
    "for i in supply_qty:\n",
    "    print(f'{i} Supply qty = {supply_qty[i].varValue}')"
   ]
  },
  {
   "cell_type": "raw",
   "id": "ffc92e05",
   "metadata": {},
   "source": [
    "Each plant was served as per above suggested quantities"
   ]
  }
 ],
 "metadata": {
  "kernelspec": {
   "display_name": "Python 3",
   "language": "python",
   "name": "python3"
  },
  "language_info": {
   "codemirror_mode": {
    "name": "ipython",
    "version": 3
   },
   "file_extension": ".py",
   "mimetype": "text/x-python",
   "name": "python",
   "nbconvert_exporter": "python",
   "pygments_lexer": "ipython3",
   "version": "3.8.8"
  }
 },
 "nbformat": 4,
 "nbformat_minor": 5
}
