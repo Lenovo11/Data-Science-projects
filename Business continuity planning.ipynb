{
 "cells": [
  {
   "cell_type": "markdown",
   "id": "6a09200f",
   "metadata": {},
   "source": [
    "# Business continuity planning and identifying contract defaulter"
   ]
  },
  {
   "cell_type": "markdown",
   "id": "6885112d",
   "metadata": {},
   "source": [
    "## Objective\n",
    "\n",
    "**Find business critical suppliers and focus on their progress. Also develop alternate suppliers to de-risk the supply chain**\n",
    "**Suppliers may default contract and risk supply chain. Develop model to identify potential contract defaulting suppliers**"
   ]
  },
  {
   "cell_type": "markdown",
   "id": "a061a297",
   "metadata": {},
   "source": [
    "Below data was developed by interviewing different commodity managers. \n",
    "Also, independent variables are identified by brainstorming with the group. This database was further evolved year on year."
   ]
  },
  {
   "cell_type": "code",
   "execution_count": 1,
   "id": "f09698bb",
   "metadata": {},
   "outputs": [],
   "source": [
    "import pandas as pd\n",
    "import numpy as np\n",
    "import seaborn as sns\n",
    "import matplotlib.pyplot as plt\n",
    "%matplotlib inline"
   ]
  },
  {
   "cell_type": "code",
   "execution_count": 2,
   "id": "5ddc3685",
   "metadata": {},
   "outputs": [],
   "source": [
    "import warnings\n",
    "warnings.filterwarnings('ignore')"
   ]
  },
  {
   "cell_type": "code",
   "execution_count": 3,
   "id": "07e37970",
   "metadata": {},
   "outputs": [],
   "source": [
    "bcp=pd.read_csv('BCP.csv')"
   ]
  },
  {
   "cell_type": "code",
   "execution_count": 4,
   "id": "a8449ac8",
   "metadata": {},
   "outputs": [
    {
     "data": {
      "text/html": [
       "<div>\n",
       "<style scoped>\n",
       "    .dataframe tbody tr th:only-of-type {\n",
       "        vertical-align: middle;\n",
       "    }\n",
       "\n",
       "    .dataframe tbody tr th {\n",
       "        vertical-align: top;\n",
       "    }\n",
       "\n",
       "    .dataframe thead th {\n",
       "        text-align: right;\n",
       "    }\n",
       "</style>\n",
       "<table border=\"1\" class=\"dataframe\">\n",
       "  <thead>\n",
       "    <tr style=\"text-align: right;\">\n",
       "      <th></th>\n",
       "      <th>Supplier</th>\n",
       "      <th>Category</th>\n",
       "      <th>Spend</th>\n",
       "      <th>Key_Material</th>\n",
       "      <th>Single_Sourced</th>\n",
       "      <th>Chasing_Payment</th>\n",
       "      <th>Requested_Payment_Term_Change</th>\n",
       "      <th>Change_in_Senior_Management</th>\n",
       "      <th>Market_Rumours</th>\n",
       "      <th>Loss_of_Large_Customer</th>\n",
       "      <th>Communication_Issues</th>\n",
       "      <th>Contract_Default</th>\n",
       "    </tr>\n",
       "  </thead>\n",
       "  <tbody>\n",
       "    <tr>\n",
       "      <th>0</th>\n",
       "      <td>Amcor</td>\n",
       "      <td>Flex Packaging</td>\n",
       "      <td>$18,039,764</td>\n",
       "      <td>NO</td>\n",
       "      <td>NO</td>\n",
       "      <td>NO</td>\n",
       "      <td>NO</td>\n",
       "      <td>NO</td>\n",
       "      <td>NO</td>\n",
       "      <td>NO</td>\n",
       "      <td>NO</td>\n",
       "      <td>NO</td>\n",
       "    </tr>\n",
       "    <tr>\n",
       "      <th>1</th>\n",
       "      <td>ADANI WILMAR LIMITED</td>\n",
       "      <td>Agro</td>\n",
       "      <td>$17,000,000</td>\n",
       "      <td>NO</td>\n",
       "      <td>NO</td>\n",
       "      <td>NO</td>\n",
       "      <td>NO</td>\n",
       "      <td>NO</td>\n",
       "      <td>NO</td>\n",
       "      <td>NO</td>\n",
       "      <td>NO</td>\n",
       "      <td>NO</td>\n",
       "    </tr>\n",
       "    <tr>\n",
       "      <th>2</th>\n",
       "      <td>RUCHI SOYA INDUSTRIES LTD</td>\n",
       "      <td>Agro</td>\n",
       "      <td>$14,603,551</td>\n",
       "      <td>NO</td>\n",
       "      <td>NO</td>\n",
       "      <td>NO</td>\n",
       "      <td>NO</td>\n",
       "      <td>NO</td>\n",
       "      <td>NO</td>\n",
       "      <td>NO</td>\n",
       "      <td>NO</td>\n",
       "      <td>NO</td>\n",
       "    </tr>\n",
       "    <tr>\n",
       "      <th>3</th>\n",
       "      <td>NATIONAL POLYPLAST (INDIA) LTD</td>\n",
       "      <td>Rigid Packaging</td>\n",
       "      <td>$14,290,065</td>\n",
       "      <td>NO</td>\n",
       "      <td>NO</td>\n",
       "      <td>NO</td>\n",
       "      <td>NO</td>\n",
       "      <td>NO</td>\n",
       "      <td>NO</td>\n",
       "      <td>NO</td>\n",
       "      <td>NO</td>\n",
       "      <td>NO</td>\n",
       "    </tr>\n",
       "    <tr>\n",
       "      <th>4</th>\n",
       "      <td>RELIANCE INDUSTRIES LIMITED</td>\n",
       "      <td>Rigid Packaging</td>\n",
       "      <td>$13,400,000</td>\n",
       "      <td>NO</td>\n",
       "      <td>NO</td>\n",
       "      <td>NO</td>\n",
       "      <td>NO</td>\n",
       "      <td>NO</td>\n",
       "      <td>NO</td>\n",
       "      <td>NO</td>\n",
       "      <td>NO</td>\n",
       "      <td>NO</td>\n",
       "    </tr>\n",
       "  </tbody>\n",
       "</table>\n",
       "</div>"
      ],
      "text/plain": [
       "                         Supplier        Category           Spend  \\\n",
       "0                           Amcor   Flex Packaging   $18,039,764    \n",
       "1            ADANI WILMAR LIMITED             Agro   $17,000,000    \n",
       "2       RUCHI SOYA INDUSTRIES LTD             Agro   $14,603,551    \n",
       "3  NATIONAL POLYPLAST (INDIA) LTD  Rigid Packaging   $14,290,065    \n",
       "4     RELIANCE INDUSTRIES LIMITED  Rigid Packaging   $13,400,000    \n",
       "\n",
       "  Key_Material Single_Sourced Chasing_Payment Requested_Payment_Term_Change  \\\n",
       "0           NO             NO              NO                            NO   \n",
       "1           NO             NO              NO                            NO   \n",
       "2           NO             NO              NO                            NO   \n",
       "3           NO             NO              NO                            NO   \n",
       "4           NO             NO              NO                            NO   \n",
       "\n",
       "  Change_in_Senior_Management Market_Rumours Loss_of_Large_Customer  \\\n",
       "0                          NO             NO                     NO   \n",
       "1                          NO             NO                     NO   \n",
       "2                          NO             NO                     NO   \n",
       "3                          NO             NO                     NO   \n",
       "4                          NO             NO                     NO   \n",
       "\n",
       "  Communication_Issues Contract_Default  \n",
       "0                   NO               NO  \n",
       "1                   NO               NO  \n",
       "2                   NO               NO  \n",
       "3                   NO               NO  \n",
       "4                   NO               NO  "
      ]
     },
     "execution_count": 4,
     "metadata": {},
     "output_type": "execute_result"
    }
   ],
   "source": [
    "bcp.head()"
   ]
  },
  {
   "cell_type": "code",
   "execution_count": 5,
   "id": "a17548c6",
   "metadata": {},
   "outputs": [],
   "source": [
    "# 1. Find Criticality score- to monitor\n",
    "# 2. Classify- based on Default contract database- using decision tree etc. models"
   ]
  },
  {
   "cell_type": "code",
   "execution_count": 6,
   "id": "d2dee21e",
   "metadata": {},
   "outputs": [
    {
     "data": {
      "text/plain": [
       "Supplier                         0\n",
       "Category                         0\n",
       "Spend                            0\n",
       "Key_Material                     0\n",
       "Single_Sourced                   0\n",
       "Chasing_Payment                  0\n",
       "Requested_Payment_Term_Change    0\n",
       "Change_in_Senior_Management      0\n",
       "Market_Rumours                   0\n",
       "Loss_of_Large_Customer           0\n",
       "Communication_Issues             0\n",
       "Contract_Default                 0\n",
       "dtype: int64"
      ]
     },
     "execution_count": 6,
     "metadata": {},
     "output_type": "execute_result"
    }
   ],
   "source": [
    "bcp.isnull().sum()"
   ]
  },
  {
   "cell_type": "code",
   "execution_count": 7,
   "id": "542f0197",
   "metadata": {},
   "outputs": [
    {
     "data": {
      "text/plain": [
       "NO     107\n",
       "YES     27\n",
       "no       1\n",
       "Name: Key_Material, dtype: int64"
      ]
     },
     "execution_count": 7,
     "metadata": {},
     "output_type": "execute_result"
    }
   ],
   "source": [
    "bcp['Key_Material'].value_counts()"
   ]
  },
  {
   "cell_type": "code",
   "execution_count": 8,
   "id": "1f0735b8",
   "metadata": {},
   "outputs": [],
   "source": [
    "bcp[bcp.Single_Sourced=='no']='NO'"
   ]
  },
  {
   "cell_type": "code",
   "execution_count": 9,
   "id": "cc768e01",
   "metadata": {},
   "outputs": [
    {
     "data": {
      "text/plain": [
       "NO     109\n",
       "YES     26\n",
       "Name: Single_Sourced, dtype: int64"
      ]
     },
     "execution_count": 9,
     "metadata": {},
     "output_type": "execute_result"
    }
   ],
   "source": [
    "bcp['Single_Sourced'].value_counts()"
   ]
  },
  {
   "cell_type": "code",
   "execution_count": 10,
   "id": "499ecae0",
   "metadata": {},
   "outputs": [
    {
     "data": {
      "text/plain": [
       "NO     109\n",
       "YES     26\n",
       "Name: Single_Sourced, dtype: int64"
      ]
     },
     "execution_count": 10,
     "metadata": {},
     "output_type": "execute_result"
    }
   ],
   "source": [
    "bcp['Single_Sourced'].value_counts()"
   ]
  },
  {
   "cell_type": "code",
   "execution_count": 11,
   "id": "9c6c77b8",
   "metadata": {},
   "outputs": [
    {
     "name": "stdout",
     "output_type": "stream",
     "text": [
      "<class 'pandas.core.frame.DataFrame'>\n",
      "RangeIndex: 135 entries, 0 to 134\n",
      "Data columns (total 12 columns):\n",
      " #   Column                         Non-Null Count  Dtype \n",
      "---  ------                         --------------  ----- \n",
      " 0   Supplier                       135 non-null    object\n",
      " 1   Category                       135 non-null    object\n",
      " 2   Spend                          135 non-null    object\n",
      " 3   Key_Material                   135 non-null    object\n",
      " 4   Single_Sourced                 135 non-null    object\n",
      " 5   Chasing_Payment                135 non-null    object\n",
      " 6   Requested_Payment_Term_Change  135 non-null    object\n",
      " 7   Change_in_Senior_Management    135 non-null    object\n",
      " 8   Market_Rumours                 135 non-null    object\n",
      " 9   Loss_of_Large_Customer         135 non-null    object\n",
      " 10  Communication_Issues           135 non-null    object\n",
      " 11  Contract_Default               135 non-null    object\n",
      "dtypes: object(12)\n",
      "memory usage: 12.8+ KB\n"
     ]
    }
   ],
   "source": [
    "bcp.info()"
   ]
  },
  {
   "cell_type": "code",
   "execution_count": 12,
   "id": "69e011be",
   "metadata": {},
   "outputs": [],
   "source": [
    "bcp['Spend'] = bcp['Spend'].str.replace('$', '')"
   ]
  },
  {
   "cell_type": "code",
   "execution_count": 13,
   "id": "6cb3a3a3",
   "metadata": {},
   "outputs": [],
   "source": [
    "bcp['Spend'] = bcp['Spend'].str.replace(',', '')"
   ]
  },
  {
   "cell_type": "code",
   "execution_count": 14,
   "id": "acdd9473",
   "metadata": {},
   "outputs": [
    {
     "data": {
      "text/html": [
       "<div>\n",
       "<style scoped>\n",
       "    .dataframe tbody tr th:only-of-type {\n",
       "        vertical-align: middle;\n",
       "    }\n",
       "\n",
       "    .dataframe tbody tr th {\n",
       "        vertical-align: top;\n",
       "    }\n",
       "\n",
       "    .dataframe thead th {\n",
       "        text-align: right;\n",
       "    }\n",
       "</style>\n",
       "<table border=\"1\" class=\"dataframe\">\n",
       "  <thead>\n",
       "    <tr style=\"text-align: right;\">\n",
       "      <th></th>\n",
       "      <th>Supplier</th>\n",
       "      <th>Category</th>\n",
       "      <th>Spend</th>\n",
       "      <th>Key_Material</th>\n",
       "      <th>Single_Sourced</th>\n",
       "      <th>Chasing_Payment</th>\n",
       "      <th>Requested_Payment_Term_Change</th>\n",
       "      <th>Change_in_Senior_Management</th>\n",
       "      <th>Market_Rumours</th>\n",
       "      <th>Loss_of_Large_Customer</th>\n",
       "      <th>Communication_Issues</th>\n",
       "      <th>Contract_Default</th>\n",
       "    </tr>\n",
       "  </thead>\n",
       "  <tbody>\n",
       "    <tr>\n",
       "      <th>94</th>\n",
       "      <td>NO</td>\n",
       "      <td>NO</td>\n",
       "      <td>NO</td>\n",
       "      <td>NO</td>\n",
       "      <td>NO</td>\n",
       "      <td>NO</td>\n",
       "      <td>NO</td>\n",
       "      <td>NO</td>\n",
       "      <td>NO</td>\n",
       "      <td>NO</td>\n",
       "      <td>NO</td>\n",
       "      <td>NO</td>\n",
       "    </tr>\n",
       "  </tbody>\n",
       "</table>\n",
       "</div>"
      ],
      "text/plain": [
       "   Supplier Category  Spend Key_Material Single_Sourced Chasing_Payment  \\\n",
       "94       NO        NO    NO           NO             NO              NO   \n",
       "\n",
       "   Requested_Payment_Term_Change Change_in_Senior_Management Market_Rumours  \\\n",
       "94                            NO                          NO             NO   \n",
       "\n",
       "   Loss_of_Large_Customer Communication_Issues Contract_Default  \n",
       "94                     NO                   NO               NO  "
      ]
     },
     "execution_count": 14,
     "metadata": {},
     "output_type": "execute_result"
    }
   ],
   "source": [
    "bcp[bcp['Spend']=='NO']"
   ]
  },
  {
   "cell_type": "code",
   "execution_count": 15,
   "id": "42c56410",
   "metadata": {},
   "outputs": [],
   "source": [
    "bcp.drop(index=94, axis=0, inplace=True)"
   ]
  },
  {
   "cell_type": "code",
   "execution_count": 16,
   "id": "6a3b2cde",
   "metadata": {},
   "outputs": [],
   "source": [
    "bcp.reset_index(inplace=True)"
   ]
  },
  {
   "cell_type": "code",
   "execution_count": 17,
   "id": "8be4c7ad",
   "metadata": {},
   "outputs": [],
   "source": [
    "bcp['Spend']=bcp['Spend'].astype(int)"
   ]
  },
  {
   "cell_type": "code",
   "execution_count": 18,
   "id": "438e87b1",
   "metadata": {},
   "outputs": [
    {
     "data": {
      "text/plain": [
       "Index(['index', 'Supplier', 'Category ', 'Spend', 'Key_Material',\n",
       "       'Single_Sourced', 'Chasing_Payment', 'Requested_Payment_Term_Change',\n",
       "       'Change_in_Senior_Management', 'Market_Rumours',\n",
       "       'Loss_of_Large_Customer', 'Communication_Issues', 'Contract_Default'],\n",
       "      dtype='object')"
      ]
     },
     "execution_count": 18,
     "metadata": {},
     "output_type": "execute_result"
    }
   ],
   "source": [
    "bcp.columns"
   ]
  },
  {
   "cell_type": "code",
   "execution_count": 19,
   "id": "4f875438",
   "metadata": {},
   "outputs": [
    {
     "data": {
      "text/html": [
       "<div>\n",
       "<style scoped>\n",
       "    .dataframe tbody tr th:only-of-type {\n",
       "        vertical-align: middle;\n",
       "    }\n",
       "\n",
       "    .dataframe tbody tr th {\n",
       "        vertical-align: top;\n",
       "    }\n",
       "\n",
       "    .dataframe thead th {\n",
       "        text-align: right;\n",
       "    }\n",
       "</style>\n",
       "<table border=\"1\" class=\"dataframe\">\n",
       "  <thead>\n",
       "    <tr style=\"text-align: right;\">\n",
       "      <th></th>\n",
       "      <th>index</th>\n",
       "      <th>Supplier</th>\n",
       "      <th>Category</th>\n",
       "      <th>Spend</th>\n",
       "      <th>Key_Material</th>\n",
       "      <th>Single_Sourced</th>\n",
       "      <th>Chasing_Payment</th>\n",
       "      <th>Requested_Payment_Term_Change</th>\n",
       "      <th>Change_in_Senior_Management</th>\n",
       "      <th>Market_Rumours</th>\n",
       "      <th>Loss_of_Large_Customer</th>\n",
       "      <th>Communication_Issues</th>\n",
       "      <th>Contract_Default</th>\n",
       "    </tr>\n",
       "  </thead>\n",
       "  <tbody>\n",
       "    <tr>\n",
       "      <th>8</th>\n",
       "      <td>8</td>\n",
       "      <td>OLAM AGRO INDIA LTD</td>\n",
       "      <td>Sweeteners</td>\n",
       "      <td>10532019</td>\n",
       "      <td>NO</td>\n",
       "      <td>NO</td>\n",
       "      <td>Yes</td>\n",
       "      <td>NO</td>\n",
       "      <td>Yes</td>\n",
       "      <td>Yes</td>\n",
       "      <td>Yes</td>\n",
       "      <td>NO</td>\n",
       "      <td>Yes</td>\n",
       "    </tr>\n",
       "    <tr>\n",
       "      <th>54</th>\n",
       "      <td>54</td>\n",
       "      <td>K K INDUSTRIES</td>\n",
       "      <td>Agro</td>\n",
       "      <td>1360000</td>\n",
       "      <td>NO</td>\n",
       "      <td>NO</td>\n",
       "      <td>Yes</td>\n",
       "      <td>NO</td>\n",
       "      <td>NO</td>\n",
       "      <td>Yes</td>\n",
       "      <td>NO</td>\n",
       "      <td>NO</td>\n",
       "      <td>Yes</td>\n",
       "    </tr>\n",
       "    <tr>\n",
       "      <th>88</th>\n",
       "      <td>88</td>\n",
       "      <td>RG Kasat</td>\n",
       "      <td>Agro</td>\n",
       "      <td>352000</td>\n",
       "      <td>NO</td>\n",
       "      <td>NO</td>\n",
       "      <td>Yes</td>\n",
       "      <td>YES</td>\n",
       "      <td>NO</td>\n",
       "      <td>NO</td>\n",
       "      <td>NO</td>\n",
       "      <td>NO</td>\n",
       "      <td>Yes</td>\n",
       "    </tr>\n",
       "    <tr>\n",
       "      <th>123</th>\n",
       "      <td>124</td>\n",
       "      <td>KOKANA CHEMICALS</td>\n",
       "      <td>Other Directs</td>\n",
       "      <td>107635</td>\n",
       "      <td>YES</td>\n",
       "      <td>YES</td>\n",
       "      <td>Yes</td>\n",
       "      <td>NO</td>\n",
       "      <td>NO</td>\n",
       "      <td>NO</td>\n",
       "      <td>NO</td>\n",
       "      <td>Yes</td>\n",
       "      <td>Yes</td>\n",
       "    </tr>\n",
       "  </tbody>\n",
       "</table>\n",
       "</div>"
      ],
      "text/plain": [
       "     index             Supplier      Category      Spend Key_Material  \\\n",
       "8        8  OLAM AGRO INDIA LTD     Sweeteners  10532019           NO   \n",
       "54      54       K K INDUSTRIES           Agro   1360000           NO   \n",
       "88      88             RG Kasat           Agro    352000           NO   \n",
       "123    124     KOKANA CHEMICALS  Other Directs    107635          YES   \n",
       "\n",
       "    Single_Sourced Chasing_Payment Requested_Payment_Term_Change  \\\n",
       "8               NO             Yes                            NO   \n",
       "54              NO             Yes                            NO   \n",
       "88              NO             Yes                           YES   \n",
       "123            YES             Yes                            NO   \n",
       "\n",
       "    Change_in_Senior_Management Market_Rumours Loss_of_Large_Customer  \\\n",
       "8                           Yes            Yes                    Yes   \n",
       "54                           NO            Yes                     NO   \n",
       "88                           NO             NO                     NO   \n",
       "123                          NO             NO                     NO   \n",
       "\n",
       "    Communication_Issues Contract_Default  \n",
       "8                     NO              Yes  \n",
       "54                    NO              Yes  \n",
       "88                    NO              Yes  \n",
       "123                  Yes              Yes  "
      ]
     },
     "execution_count": 19,
     "metadata": {},
     "output_type": "execute_result"
    }
   ],
   "source": [
    "bcp[bcp.Contract_Default=='Yes']"
   ]
  },
  {
   "cell_type": "code",
   "execution_count": 20,
   "id": "043e3ec8",
   "metadata": {},
   "outputs": [
    {
     "data": {
      "text/plain": [
       "NO     128\n",
       "Yes      4\n",
       "No       2\n",
       "Name: Contract_Default, dtype: int64"
      ]
     },
     "execution_count": 20,
     "metadata": {},
     "output_type": "execute_result"
    }
   ],
   "source": [
    "bcp['Contract_Default'].value_counts()"
   ]
  },
  {
   "cell_type": "code",
   "execution_count": 21,
   "id": "7d36fba5",
   "metadata": {},
   "outputs": [],
   "source": [
    "label={'YES':1,'NO':0,'Yes':1, 'No':0}"
   ]
  },
  {
   "cell_type": "code",
   "execution_count": 22,
   "id": "c0bf93d8",
   "metadata": {},
   "outputs": [],
   "source": [
    "bcp_label=bcp[['Key_Material', 'Single_Sourced',\n",
    "       'Chasing_Payment', 'Requested_Payment_Term_Change',\n",
    "       'Change_in_Senior_Management', 'Market_Rumours',\n",
    "       'Loss_of_Large_Customer', 'Communication_Issues', 'Contract_Default']]"
   ]
  },
  {
   "cell_type": "code",
   "execution_count": 23,
   "id": "5346fd16",
   "metadata": {},
   "outputs": [],
   "source": [
    "for i in bcp_label.columns:\n",
    "    bcp_label[i]= bcp_label[i].map(label)"
   ]
  },
  {
   "cell_type": "code",
   "execution_count": 24,
   "id": "39fbf661",
   "metadata": {},
   "outputs": [
    {
     "data": {
      "text/html": [
       "<div>\n",
       "<style scoped>\n",
       "    .dataframe tbody tr th:only-of-type {\n",
       "        vertical-align: middle;\n",
       "    }\n",
       "\n",
       "    .dataframe tbody tr th {\n",
       "        vertical-align: top;\n",
       "    }\n",
       "\n",
       "    .dataframe thead th {\n",
       "        text-align: right;\n",
       "    }\n",
       "</style>\n",
       "<table border=\"1\" class=\"dataframe\">\n",
       "  <thead>\n",
       "    <tr style=\"text-align: right;\">\n",
       "      <th></th>\n",
       "      <th>Key_Material</th>\n",
       "      <th>Single_Sourced</th>\n",
       "      <th>Chasing_Payment</th>\n",
       "      <th>Requested_Payment_Term_Change</th>\n",
       "      <th>Change_in_Senior_Management</th>\n",
       "      <th>Market_Rumours</th>\n",
       "      <th>Loss_of_Large_Customer</th>\n",
       "      <th>Communication_Issues</th>\n",
       "      <th>Contract_Default</th>\n",
       "    </tr>\n",
       "  </thead>\n",
       "  <tbody>\n",
       "    <tr>\n",
       "      <th>8</th>\n",
       "      <td>0</td>\n",
       "      <td>0</td>\n",
       "      <td>1</td>\n",
       "      <td>0</td>\n",
       "      <td>1</td>\n",
       "      <td>1</td>\n",
       "      <td>1</td>\n",
       "      <td>0</td>\n",
       "      <td>1</td>\n",
       "    </tr>\n",
       "    <tr>\n",
       "      <th>54</th>\n",
       "      <td>0</td>\n",
       "      <td>0</td>\n",
       "      <td>1</td>\n",
       "      <td>0</td>\n",
       "      <td>0</td>\n",
       "      <td>1</td>\n",
       "      <td>0</td>\n",
       "      <td>0</td>\n",
       "      <td>1</td>\n",
       "    </tr>\n",
       "    <tr>\n",
       "      <th>88</th>\n",
       "      <td>0</td>\n",
       "      <td>0</td>\n",
       "      <td>1</td>\n",
       "      <td>1</td>\n",
       "      <td>0</td>\n",
       "      <td>0</td>\n",
       "      <td>0</td>\n",
       "      <td>0</td>\n",
       "      <td>1</td>\n",
       "    </tr>\n",
       "    <tr>\n",
       "      <th>123</th>\n",
       "      <td>1</td>\n",
       "      <td>1</td>\n",
       "      <td>1</td>\n",
       "      <td>0</td>\n",
       "      <td>0</td>\n",
       "      <td>0</td>\n",
       "      <td>0</td>\n",
       "      <td>1</td>\n",
       "      <td>1</td>\n",
       "    </tr>\n",
       "  </tbody>\n",
       "</table>\n",
       "</div>"
      ],
      "text/plain": [
       "     Key_Material  Single_Sourced  Chasing_Payment  \\\n",
       "8               0               0                1   \n",
       "54              0               0                1   \n",
       "88              0               0                1   \n",
       "123             1               1                1   \n",
       "\n",
       "     Requested_Payment_Term_Change  Change_in_Senior_Management  \\\n",
       "8                                0                            1   \n",
       "54                               0                            0   \n",
       "88                               1                            0   \n",
       "123                              0                            0   \n",
       "\n",
       "     Market_Rumours  Loss_of_Large_Customer  Communication_Issues  \\\n",
       "8                 1                       1                     0   \n",
       "54                1                       0                     0   \n",
       "88                0                       0                     0   \n",
       "123               0                       0                     1   \n",
       "\n",
       "     Contract_Default  \n",
       "8                   1  \n",
       "54                  1  \n",
       "88                  1  \n",
       "123                 1  "
      ]
     },
     "execution_count": 24,
     "metadata": {},
     "output_type": "execute_result"
    }
   ],
   "source": [
    "bcp_label[bcp_label.Contract_Default==1]"
   ]
  },
  {
   "cell_type": "code",
   "execution_count": 25,
   "id": "a0cd073d",
   "metadata": {},
   "outputs": [],
   "source": [
    "bcp.drop(columns=['Key_Material', 'Single_Sourced',\n",
    "       'Chasing_Payment', 'Requested_Payment_Term_Change',\n",
    "       'Change_in_Senior_Management', 'Market_Rumours',\n",
    "       'Loss_of_Large_Customer', 'Communication_Issues', 'Contract_Default'],inplace=True, axis=1)"
   ]
  },
  {
   "cell_type": "code",
   "execution_count": 26,
   "id": "5e1518de",
   "metadata": {},
   "outputs": [],
   "source": [
    "bcp=pd.concat([bcp,bcp_label],axis=1)"
   ]
  },
  {
   "cell_type": "code",
   "execution_count": 27,
   "id": "2a91b52b",
   "metadata": {},
   "outputs": [
    {
     "data": {
      "text/html": [
       "<div>\n",
       "<style scoped>\n",
       "    .dataframe tbody tr th:only-of-type {\n",
       "        vertical-align: middle;\n",
       "    }\n",
       "\n",
       "    .dataframe tbody tr th {\n",
       "        vertical-align: top;\n",
       "    }\n",
       "\n",
       "    .dataframe thead th {\n",
       "        text-align: right;\n",
       "    }\n",
       "</style>\n",
       "<table border=\"1\" class=\"dataframe\">\n",
       "  <thead>\n",
       "    <tr style=\"text-align: right;\">\n",
       "      <th></th>\n",
       "      <th>index</th>\n",
       "      <th>Supplier</th>\n",
       "      <th>Category</th>\n",
       "      <th>Spend</th>\n",
       "      <th>Key_Material</th>\n",
       "      <th>Single_Sourced</th>\n",
       "      <th>Chasing_Payment</th>\n",
       "      <th>Requested_Payment_Term_Change</th>\n",
       "      <th>Change_in_Senior_Management</th>\n",
       "      <th>Market_Rumours</th>\n",
       "      <th>Loss_of_Large_Customer</th>\n",
       "      <th>Communication_Issues</th>\n",
       "      <th>Contract_Default</th>\n",
       "    </tr>\n",
       "  </thead>\n",
       "  <tbody>\n",
       "    <tr>\n",
       "      <th>0</th>\n",
       "      <td>0</td>\n",
       "      <td>Amcor</td>\n",
       "      <td>Flex Packaging</td>\n",
       "      <td>18039764</td>\n",
       "      <td>0</td>\n",
       "      <td>0</td>\n",
       "      <td>0</td>\n",
       "      <td>0</td>\n",
       "      <td>0</td>\n",
       "      <td>0</td>\n",
       "      <td>0</td>\n",
       "      <td>0</td>\n",
       "      <td>0</td>\n",
       "    </tr>\n",
       "    <tr>\n",
       "      <th>1</th>\n",
       "      <td>1</td>\n",
       "      <td>ADANI WILMAR LIMITED</td>\n",
       "      <td>Agro</td>\n",
       "      <td>17000000</td>\n",
       "      <td>0</td>\n",
       "      <td>0</td>\n",
       "      <td>0</td>\n",
       "      <td>0</td>\n",
       "      <td>0</td>\n",
       "      <td>0</td>\n",
       "      <td>0</td>\n",
       "      <td>0</td>\n",
       "      <td>0</td>\n",
       "    </tr>\n",
       "  </tbody>\n",
       "</table>\n",
       "</div>"
      ],
      "text/plain": [
       "   index              Supplier       Category      Spend  Key_Material  \\\n",
       "0      0                 Amcor  Flex Packaging  18039764             0   \n",
       "1      1  ADANI WILMAR LIMITED            Agro  17000000             0   \n",
       "\n",
       "   Single_Sourced  Chasing_Payment  Requested_Payment_Term_Change  \\\n",
       "0               0                0                              0   \n",
       "1               0                0                              0   \n",
       "\n",
       "   Change_in_Senior_Management  Market_Rumours  Loss_of_Large_Customer  \\\n",
       "0                            0               0                       0   \n",
       "1                            0               0                       0   \n",
       "\n",
       "   Communication_Issues  Contract_Default  \n",
       "0                     0                 0  \n",
       "1                     0                 0  "
      ]
     },
     "execution_count": 27,
     "metadata": {},
     "output_type": "execute_result"
    }
   ],
   "source": [
    "bcp.head(2)"
   ]
  },
  {
   "cell_type": "markdown",
   "id": "1a962a34",
   "metadata": {},
   "source": [
    "# Supplier list for Business continuity focus:\n",
    "Based on criticality of the material and monopoly of the suppliers"
   ]
  },
  {
   "cell_type": "code",
   "execution_count": 28,
   "id": "5a0a2813",
   "metadata": {},
   "outputs": [],
   "source": [
    "bcp['Risky_material']=bcp['Key_Material']*4+bcp['Single_Sourced']*4"
   ]
  },
  {
   "cell_type": "code",
   "execution_count": 29,
   "id": "ee13c227",
   "metadata": {},
   "outputs": [
    {
     "data": {
      "text/plain": [
       "count    1.340000e+02\n",
       "mean     2.392116e+06\n",
       "std      3.700687e+06\n",
       "min      5.816000e+03\n",
       "25%      1.964295e+05\n",
       "50%      7.012055e+05\n",
       "75%      2.493558e+06\n",
       "max      1.803976e+07\n",
       "Name: Spend, dtype: float64"
      ]
     },
     "execution_count": 29,
     "metadata": {},
     "output_type": "execute_result"
    }
   ],
   "source": [
    "bcp['Spend'].describe()"
   ]
  },
  {
   "cell_type": "code",
   "execution_count": 30,
   "id": "c60687be",
   "metadata": {},
   "outputs": [
    {
     "data": {
      "text/plain": [
       "134"
      ]
     },
     "execution_count": 30,
     "metadata": {},
     "output_type": "execute_result"
    }
   ],
   "source": [
    "bcp.shape[0]"
   ]
  },
  {
   "cell_type": "code",
   "execution_count": 31,
   "id": "d3b782f5",
   "metadata": {},
   "outputs": [],
   "source": [
    "def spend_profile(i):\n",
    "    if i>=1000000:\n",
    "        return 5\n",
    "    elif 700000<=i<1000000:\n",
    "        return 4\n",
    "    elif 300000<=i<700000:\n",
    "        return 3\n",
    "    elif 100000<=i<300000:\n",
    "        return 2\n",
    "    elif 50000<=i<100000:\n",
    "        return 1\n",
    "    else:\n",
    "        return 0"
   ]
  },
  {
   "cell_type": "code",
   "execution_count": 32,
   "id": "7e1cd1a0",
   "metadata": {},
   "outputs": [],
   "source": [
    "for x in range(bcp.shape[0]):\n",
    "    bcp.loc[x,'spend_profile']=spend_profile(bcp.loc[x,'Spend']) #Make sure index is correct"
   ]
  },
  {
   "cell_type": "code",
   "execution_count": 33,
   "id": "ece6850f",
   "metadata": {},
   "outputs": [
    {
     "data": {
      "text/html": [
       "<div>\n",
       "<style scoped>\n",
       "    .dataframe tbody tr th:only-of-type {\n",
       "        vertical-align: middle;\n",
       "    }\n",
       "\n",
       "    .dataframe tbody tr th {\n",
       "        vertical-align: top;\n",
       "    }\n",
       "\n",
       "    .dataframe thead th {\n",
       "        text-align: right;\n",
       "    }\n",
       "</style>\n",
       "<table border=\"1\" class=\"dataframe\">\n",
       "  <thead>\n",
       "    <tr style=\"text-align: right;\">\n",
       "      <th></th>\n",
       "      <th>index</th>\n",
       "      <th>Supplier</th>\n",
       "      <th>Category</th>\n",
       "      <th>Spend</th>\n",
       "      <th>Key_Material</th>\n",
       "      <th>Single_Sourced</th>\n",
       "      <th>Chasing_Payment</th>\n",
       "      <th>Requested_Payment_Term_Change</th>\n",
       "      <th>Change_in_Senior_Management</th>\n",
       "      <th>Market_Rumours</th>\n",
       "      <th>Loss_of_Large_Customer</th>\n",
       "      <th>Communication_Issues</th>\n",
       "      <th>Contract_Default</th>\n",
       "      <th>Risky_material</th>\n",
       "      <th>spend_profile</th>\n",
       "    </tr>\n",
       "  </thead>\n",
       "  <tbody>\n",
       "    <tr>\n",
       "      <th>129</th>\n",
       "      <td>130</td>\n",
       "      <td>Dextrous</td>\n",
       "      <td>Agro</td>\n",
       "      <td>40000</td>\n",
       "      <td>0</td>\n",
       "      <td>0</td>\n",
       "      <td>0</td>\n",
       "      <td>0</td>\n",
       "      <td>0</td>\n",
       "      <td>0</td>\n",
       "      <td>0</td>\n",
       "      <td>0</td>\n",
       "      <td>0</td>\n",
       "      <td>0</td>\n",
       "      <td>0.0</td>\n",
       "    </tr>\n",
       "    <tr>\n",
       "      <th>130</th>\n",
       "      <td>131</td>\n",
       "      <td>PYRAMID PACKAGING PVT LTD</td>\n",
       "      <td>Flex Packaging - MSO</td>\n",
       "      <td>35690</td>\n",
       "      <td>0</td>\n",
       "      <td>0</td>\n",
       "      <td>0</td>\n",
       "      <td>0</td>\n",
       "      <td>0</td>\n",
       "      <td>0</td>\n",
       "      <td>0</td>\n",
       "      <td>0</td>\n",
       "      <td>0</td>\n",
       "      <td>0</td>\n",
       "      <td>0.0</td>\n",
       "    </tr>\n",
       "    <tr>\n",
       "      <th>131</th>\n",
       "      <td>132</td>\n",
       "      <td>INSILCO LTD</td>\n",
       "      <td>Other Directs</td>\n",
       "      <td>30888</td>\n",
       "      <td>1</td>\n",
       "      <td>1</td>\n",
       "      <td>0</td>\n",
       "      <td>0</td>\n",
       "      <td>0</td>\n",
       "      <td>0</td>\n",
       "      <td>0</td>\n",
       "      <td>0</td>\n",
       "      <td>0</td>\n",
       "      <td>8</td>\n",
       "      <td>0.0</td>\n",
       "    </tr>\n",
       "    <tr>\n",
       "      <th>132</th>\n",
       "      <td>133</td>\n",
       "      <td>Oceanic Tropical Fruits Private Ltd</td>\n",
       "      <td>Agro</td>\n",
       "      <td>22639</td>\n",
       "      <td>0</td>\n",
       "      <td>0</td>\n",
       "      <td>0</td>\n",
       "      <td>0</td>\n",
       "      <td>0</td>\n",
       "      <td>0</td>\n",
       "      <td>0</td>\n",
       "      <td>0</td>\n",
       "      <td>0</td>\n",
       "      <td>0</td>\n",
       "      <td>0.0</td>\n",
       "    </tr>\n",
       "    <tr>\n",
       "      <th>133</th>\n",
       "      <td>134</td>\n",
       "      <td>Rajshree Polypack Pvt Ltd</td>\n",
       "      <td>Other Directs</td>\n",
       "      <td>5816</td>\n",
       "      <td>0</td>\n",
       "      <td>0</td>\n",
       "      <td>0</td>\n",
       "      <td>0</td>\n",
       "      <td>0</td>\n",
       "      <td>0</td>\n",
       "      <td>0</td>\n",
       "      <td>0</td>\n",
       "      <td>0</td>\n",
       "      <td>0</td>\n",
       "      <td>0.0</td>\n",
       "    </tr>\n",
       "  </tbody>\n",
       "</table>\n",
       "</div>"
      ],
      "text/plain": [
       "     index                             Supplier             Category   Spend  \\\n",
       "129    130                             Dextrous                  Agro  40000   \n",
       "130    131            PYRAMID PACKAGING PVT LTD  Flex Packaging - MSO  35690   \n",
       "131    132                          INSILCO LTD         Other Directs  30888   \n",
       "132    133  Oceanic Tropical Fruits Private Ltd                  Agro  22639   \n",
       "133    134            Rajshree Polypack Pvt Ltd         Other Directs   5816   \n",
       "\n",
       "     Key_Material  Single_Sourced  Chasing_Payment  \\\n",
       "129             0               0                0   \n",
       "130             0               0                0   \n",
       "131             1               1                0   \n",
       "132             0               0                0   \n",
       "133             0               0                0   \n",
       "\n",
       "     Requested_Payment_Term_Change  Change_in_Senior_Management  \\\n",
       "129                              0                            0   \n",
       "130                              0                            0   \n",
       "131                              0                            0   \n",
       "132                              0                            0   \n",
       "133                              0                            0   \n",
       "\n",
       "     Market_Rumours  Loss_of_Large_Customer  Communication_Issues  \\\n",
       "129               0                       0                     0   \n",
       "130               0                       0                     0   \n",
       "131               0                       0                     0   \n",
       "132               0                       0                     0   \n",
       "133               0                       0                     0   \n",
       "\n",
       "     Contract_Default  Risky_material  spend_profile  \n",
       "129                 0               0            0.0  \n",
       "130                 0               0            0.0  \n",
       "131                 0               8            0.0  \n",
       "132                 0               0            0.0  \n",
       "133                 0               0            0.0  "
      ]
     },
     "execution_count": 33,
     "metadata": {},
     "output_type": "execute_result"
    }
   ],
   "source": [
    "bcp.tail()"
   ]
  },
  {
   "cell_type": "code",
   "execution_count": 34,
   "id": "3cc364cf",
   "metadata": {},
   "outputs": [],
   "source": [
    "focused_suppliers=bcp[(bcp.Risky_material>4) & (bcp.spend_profile>=3)]"
   ]
  },
  {
   "cell_type": "code",
   "execution_count": 35,
   "id": "16aa84be",
   "metadata": {},
   "outputs": [],
   "source": [
    "bcp_plan=focused_suppliers.sort_values(by='spend_profile', ascending=False)"
   ]
  },
  {
   "cell_type": "code",
   "execution_count": 36,
   "id": "b020b82b",
   "metadata": {},
   "outputs": [
    {
     "data": {
      "text/plain": [
       "5     INTERNATIONAL FLAVOURS & FRAGRANCES\n",
       "18                   PARAS SPICES PVT LTD\n",
       "21                SYMRISE PRIVATE LIMITED\n",
       "34             GIVAUDAN (INDIA) PVT. LTD.\n",
       "39                JAIN IRRIGATION SYSTEMS\n",
       "55                                 Rexaam\n",
       "57                       Citropak- Kinnou\n",
       "69           DOHLER INDIA PRIVATE LIMITED\n",
       "70                  SUPACK IND. PVT. LTD.\n",
       "72            SYNTHITE INDUSTRIES LIMITED\n",
       "73                 SENSIENT INDIA PVT LTD\n",
       "74              VENKATESH FOOD INDUSTRIES\n",
       "85         DRYTECH PROCESSES (I)PVT. LTD.\n",
       "87                  MERINO INDUSTRIES LTD\n",
       "91             IMCD INDIA PRIVATE LIMITED\n",
       "Name: Supplier, dtype: object"
      ]
     },
     "execution_count": 36,
     "metadata": {},
     "output_type": "execute_result"
    }
   ],
   "source": [
    "bcp_plan['Supplier']"
   ]
  },
  {
   "cell_type": "markdown",
   "id": "75ff7f3c",
   "metadata": {},
   "source": [
    "These are business critical suppliers. Need to develop alternate suppliers for these"
   ]
  },
  {
   "cell_type": "markdown",
   "id": "cc6fbdac",
   "metadata": {},
   "source": [
    "# Predict contract defaulters"
   ]
  },
  {
   "cell_type": "code",
   "execution_count": 37,
   "id": "3b183093",
   "metadata": {},
   "outputs": [],
   "source": [
    "bcp.drop('index',inplace=True, axis=1)"
   ]
  },
  {
   "cell_type": "code",
   "execution_count": 38,
   "id": "b5755a23",
   "metadata": {},
   "outputs": [
    {
     "data": {
      "text/plain": [
       "Index(['Supplier', 'Category ', 'Spend', 'Key_Material', 'Single_Sourced',\n",
       "       'Chasing_Payment', 'Requested_Payment_Term_Change',\n",
       "       'Change_in_Senior_Management', 'Market_Rumours',\n",
       "       'Loss_of_Large_Customer', 'Communication_Issues', 'Contract_Default',\n",
       "       'Risky_material', 'spend_profile'],\n",
       "      dtype='object')"
      ]
     },
     "execution_count": 38,
     "metadata": {},
     "output_type": "execute_result"
    }
   ],
   "source": [
    "bcp.columns"
   ]
  },
  {
   "cell_type": "code",
   "execution_count": 39,
   "id": "13449c9b",
   "metadata": {},
   "outputs": [],
   "source": [
    "contract_default=bcp[['Supplier', 'Category ','Chasing_Payment', 'Requested_Payment_Term_Change',\n",
    "       'Change_in_Senior_Management', 'Market_Rumours',\n",
    "       'Loss_of_Large_Customer', 'Communication_Issues', 'Contract_Default']]"
   ]
  },
  {
   "cell_type": "code",
   "execution_count": 40,
   "id": "e93ce5ab",
   "metadata": {},
   "outputs": [
    {
     "data": {
      "text/html": [
       "<div>\n",
       "<style scoped>\n",
       "    .dataframe tbody tr th:only-of-type {\n",
       "        vertical-align: middle;\n",
       "    }\n",
       "\n",
       "    .dataframe tbody tr th {\n",
       "        vertical-align: top;\n",
       "    }\n",
       "\n",
       "    .dataframe thead th {\n",
       "        text-align: right;\n",
       "    }\n",
       "</style>\n",
       "<table border=\"1\" class=\"dataframe\">\n",
       "  <thead>\n",
       "    <tr style=\"text-align: right;\">\n",
       "      <th></th>\n",
       "      <th>Supplier</th>\n",
       "      <th>Category</th>\n",
       "      <th>Spend</th>\n",
       "      <th>Key_Material</th>\n",
       "      <th>Single_Sourced</th>\n",
       "      <th>Chasing_Payment</th>\n",
       "      <th>Requested_Payment_Term_Change</th>\n",
       "      <th>Change_in_Senior_Management</th>\n",
       "      <th>Market_Rumours</th>\n",
       "      <th>Loss_of_Large_Customer</th>\n",
       "      <th>Communication_Issues</th>\n",
       "      <th>Contract_Default</th>\n",
       "      <th>Risky_material</th>\n",
       "      <th>spend_profile</th>\n",
       "    </tr>\n",
       "  </thead>\n",
       "  <tbody>\n",
       "    <tr>\n",
       "      <th>0</th>\n",
       "      <td>Amcor</td>\n",
       "      <td>Flex Packaging</td>\n",
       "      <td>18039764</td>\n",
       "      <td>0</td>\n",
       "      <td>0</td>\n",
       "      <td>0</td>\n",
       "      <td>0</td>\n",
       "      <td>0</td>\n",
       "      <td>0</td>\n",
       "      <td>0</td>\n",
       "      <td>0</td>\n",
       "      <td>0</td>\n",
       "      <td>0</td>\n",
       "      <td>5.0</td>\n",
       "    </tr>\n",
       "    <tr>\n",
       "      <th>1</th>\n",
       "      <td>ADANI WILMAR LIMITED</td>\n",
       "      <td>Agro</td>\n",
       "      <td>17000000</td>\n",
       "      <td>0</td>\n",
       "      <td>0</td>\n",
       "      <td>0</td>\n",
       "      <td>0</td>\n",
       "      <td>0</td>\n",
       "      <td>0</td>\n",
       "      <td>0</td>\n",
       "      <td>0</td>\n",
       "      <td>0</td>\n",
       "      <td>0</td>\n",
       "      <td>5.0</td>\n",
       "    </tr>\n",
       "    <tr>\n",
       "      <th>2</th>\n",
       "      <td>RUCHI SOYA INDUSTRIES LTD</td>\n",
       "      <td>Agro</td>\n",
       "      <td>14603551</td>\n",
       "      <td>0</td>\n",
       "      <td>0</td>\n",
       "      <td>0</td>\n",
       "      <td>0</td>\n",
       "      <td>0</td>\n",
       "      <td>0</td>\n",
       "      <td>0</td>\n",
       "      <td>0</td>\n",
       "      <td>0</td>\n",
       "      <td>0</td>\n",
       "      <td>5.0</td>\n",
       "    </tr>\n",
       "    <tr>\n",
       "      <th>3</th>\n",
       "      <td>NATIONAL POLYPLAST (INDIA) LTD</td>\n",
       "      <td>Rigid Packaging</td>\n",
       "      <td>14290065</td>\n",
       "      <td>0</td>\n",
       "      <td>0</td>\n",
       "      <td>0</td>\n",
       "      <td>0</td>\n",
       "      <td>0</td>\n",
       "      <td>0</td>\n",
       "      <td>0</td>\n",
       "      <td>0</td>\n",
       "      <td>0</td>\n",
       "      <td>0</td>\n",
       "      <td>5.0</td>\n",
       "    </tr>\n",
       "    <tr>\n",
       "      <th>4</th>\n",
       "      <td>RELIANCE INDUSTRIES LIMITED</td>\n",
       "      <td>Rigid Packaging</td>\n",
       "      <td>13400000</td>\n",
       "      <td>0</td>\n",
       "      <td>0</td>\n",
       "      <td>0</td>\n",
       "      <td>0</td>\n",
       "      <td>0</td>\n",
       "      <td>0</td>\n",
       "      <td>0</td>\n",
       "      <td>0</td>\n",
       "      <td>0</td>\n",
       "      <td>0</td>\n",
       "      <td>5.0</td>\n",
       "    </tr>\n",
       "  </tbody>\n",
       "</table>\n",
       "</div>"
      ],
      "text/plain": [
       "                         Supplier        Category      Spend  Key_Material  \\\n",
       "0                           Amcor   Flex Packaging  18039764             0   \n",
       "1            ADANI WILMAR LIMITED             Agro  17000000             0   \n",
       "2       RUCHI SOYA INDUSTRIES LTD             Agro  14603551             0   \n",
       "3  NATIONAL POLYPLAST (INDIA) LTD  Rigid Packaging  14290065             0   \n",
       "4     RELIANCE INDUSTRIES LIMITED  Rigid Packaging  13400000             0   \n",
       "\n",
       "   Single_Sourced  Chasing_Payment  Requested_Payment_Term_Change  \\\n",
       "0               0                0                              0   \n",
       "1               0                0                              0   \n",
       "2               0                0                              0   \n",
       "3               0                0                              0   \n",
       "4               0                0                              0   \n",
       "\n",
       "   Change_in_Senior_Management  Market_Rumours  Loss_of_Large_Customer  \\\n",
       "0                            0               0                       0   \n",
       "1                            0               0                       0   \n",
       "2                            0               0                       0   \n",
       "3                            0               0                       0   \n",
       "4                            0               0                       0   \n",
       "\n",
       "   Communication_Issues  Contract_Default  Risky_material  spend_profile  \n",
       "0                     0                 0               0            5.0  \n",
       "1                     0                 0               0            5.0  \n",
       "2                     0                 0               0            5.0  \n",
       "3                     0                 0               0            5.0  \n",
       "4                     0                 0               0            5.0  "
      ]
     },
     "execution_count": 40,
     "metadata": {},
     "output_type": "execute_result"
    }
   ],
   "source": [
    "bcp.head()"
   ]
  },
  {
   "cell_type": "code",
   "execution_count": 41,
   "id": "520fe4a8",
   "metadata": {},
   "outputs": [
    {
     "data": {
      "text/plain": [
       "Supplier                         0\n",
       "Category                         0\n",
       "Spend                            0\n",
       "Key_Material                     0\n",
       "Single_Sourced                   0\n",
       "Chasing_Payment                  0\n",
       "Requested_Payment_Term_Change    0\n",
       "Change_in_Senior_Management      0\n",
       "Market_Rumours                   0\n",
       "Loss_of_Large_Customer           0\n",
       "Communication_Issues             0\n",
       "Contract_Default                 0\n",
       "Risky_material                   0\n",
       "spend_profile                    0\n",
       "dtype: int64"
      ]
     },
     "execution_count": 41,
     "metadata": {},
     "output_type": "execute_result"
    }
   ],
   "source": [
    "bcp.isnull().sum()"
   ]
  },
  {
   "cell_type": "code",
   "execution_count": 42,
   "id": "063e472e",
   "metadata": {},
   "outputs": [
    {
     "data": {
      "text/html": [
       "<div>\n",
       "<style scoped>\n",
       "    .dataframe tbody tr th:only-of-type {\n",
       "        vertical-align: middle;\n",
       "    }\n",
       "\n",
       "    .dataframe tbody tr th {\n",
       "        vertical-align: top;\n",
       "    }\n",
       "\n",
       "    .dataframe thead th {\n",
       "        text-align: right;\n",
       "    }\n",
       "</style>\n",
       "<table border=\"1\" class=\"dataframe\">\n",
       "  <thead>\n",
       "    <tr style=\"text-align: right;\">\n",
       "      <th></th>\n",
       "      <th>Supplier</th>\n",
       "      <th>Category</th>\n",
       "      <th>Spend</th>\n",
       "      <th>Key_Material</th>\n",
       "      <th>Single_Sourced</th>\n",
       "      <th>Chasing_Payment</th>\n",
       "      <th>Requested_Payment_Term_Change</th>\n",
       "      <th>Change_in_Senior_Management</th>\n",
       "      <th>Market_Rumours</th>\n",
       "      <th>Loss_of_Large_Customer</th>\n",
       "      <th>Communication_Issues</th>\n",
       "      <th>Contract_Default</th>\n",
       "      <th>Risky_material</th>\n",
       "      <th>spend_profile</th>\n",
       "    </tr>\n",
       "  </thead>\n",
       "  <tbody>\n",
       "  </tbody>\n",
       "</table>\n",
       "</div>"
      ],
      "text/plain": [
       "Empty DataFrame\n",
       "Columns: [Supplier, Category , Spend, Key_Material, Single_Sourced, Chasing_Payment, Requested_Payment_Term_Change, Change_in_Senior_Management, Market_Rumours, Loss_of_Large_Customer, Communication_Issues, Contract_Default, Risky_material, spend_profile]\n",
       "Index: []"
      ]
     },
     "execution_count": 42,
     "metadata": {},
     "output_type": "execute_result"
    }
   ],
   "source": [
    "bcp[(bcp.Contract_Default!=1) & (bcp.Contract_Default!=0)]"
   ]
  },
  {
   "cell_type": "code",
   "execution_count": 43,
   "id": "f170dddf",
   "metadata": {},
   "outputs": [],
   "source": [
    "X=bcp[['Chasing_Payment', 'Requested_Payment_Term_Change',\n",
    "       'Change_in_Senior_Management', 'Market_Rumours',\n",
    "       'Loss_of_Large_Customer', 'Communication_Issues']]"
   ]
  },
  {
   "cell_type": "code",
   "execution_count": 44,
   "id": "5464dea5",
   "metadata": {},
   "outputs": [],
   "source": [
    "y=bcp[['Contract_Default']]"
   ]
  },
  {
   "cell_type": "code",
   "execution_count": 45,
   "id": "6d7faa33",
   "metadata": {},
   "outputs": [],
   "source": [
    "from sklearn.feature_selection import mutual_info_classif"
   ]
  },
  {
   "cell_type": "code",
   "execution_count": 46,
   "id": "191acab3",
   "metadata": {},
   "outputs": [],
   "source": [
    "imp=pd.DataFrame(mutual_info_classif(X,y),index=X.columns)"
   ]
  },
  {
   "cell_type": "code",
   "execution_count": 47,
   "id": "c588ff95",
   "metadata": {},
   "outputs": [
    {
     "data": {
      "text/html": [
       "<div>\n",
       "<style scoped>\n",
       "    .dataframe tbody tr th:only-of-type {\n",
       "        vertical-align: middle;\n",
       "    }\n",
       "\n",
       "    .dataframe tbody tr th {\n",
       "        vertical-align: top;\n",
       "    }\n",
       "\n",
       "    .dataframe thead th {\n",
       "        text-align: right;\n",
       "    }\n",
       "</style>\n",
       "<table border=\"1\" class=\"dataframe\">\n",
       "  <thead>\n",
       "    <tr style=\"text-align: right;\">\n",
       "      <th></th>\n",
       "      <th>0</th>\n",
       "    </tr>\n",
       "  </thead>\n",
       "  <tbody>\n",
       "    <tr>\n",
       "      <th>Chasing_Payment</th>\n",
       "      <td>0.134626</td>\n",
       "    </tr>\n",
       "    <tr>\n",
       "      <th>Market_Rumours</th>\n",
       "      <td>0.021166</td>\n",
       "    </tr>\n",
       "    <tr>\n",
       "      <th>Requested_Payment_Term_Change</th>\n",
       "      <td>0.000000</td>\n",
       "    </tr>\n",
       "    <tr>\n",
       "      <th>Change_in_Senior_Management</th>\n",
       "      <td>0.000000</td>\n",
       "    </tr>\n",
       "    <tr>\n",
       "      <th>Loss_of_Large_Customer</th>\n",
       "      <td>0.000000</td>\n",
       "    </tr>\n",
       "    <tr>\n",
       "      <th>Communication_Issues</th>\n",
       "      <td>0.000000</td>\n",
       "    </tr>\n",
       "  </tbody>\n",
       "</table>\n",
       "</div>"
      ],
      "text/plain": [
       "                                      0\n",
       "Chasing_Payment                0.134626\n",
       "Market_Rumours                 0.021166\n",
       "Requested_Payment_Term_Change  0.000000\n",
       "Change_in_Senior_Management    0.000000\n",
       "Loss_of_Large_Customer         0.000000\n",
       "Communication_Issues           0.000000"
      ]
     },
     "execution_count": 47,
     "metadata": {},
     "output_type": "execute_result"
    }
   ],
   "source": [
    "imp.sort_values(by=0, ascending=False)"
   ]
  },
  {
   "cell_type": "code",
   "execution_count": 58,
   "id": "91b8eab3",
   "metadata": {},
   "outputs": [],
   "source": [
    "from sklearn.model_selection import train_test_split"
   ]
  },
  {
   "cell_type": "code",
   "execution_count": 59,
   "id": "c32f0e96",
   "metadata": {},
   "outputs": [],
   "source": [
    "X_train, X_test, y_train, y_test= train_test_split(X, y, test_size=0.2)"
   ]
  },
  {
   "cell_type": "code",
   "execution_count": 60,
   "id": "255d2ad2",
   "metadata": {},
   "outputs": [],
   "source": [
    "from sklearn import metrics"
   ]
  },
  {
   "cell_type": "code",
   "execution_count": 61,
   "id": "28e6f275",
   "metadata": {},
   "outputs": [],
   "source": [
    "def predict(ml_model):\n",
    "    model=ml_model.fit(X_train, y_train)\n",
    "    \n",
    "    y_predict=model.predict(X_test)\n",
    "    print(f'Predictions: {y_predict}')\n",
    "    \n",
    "    print(f'Accuracy_Score= {metrics.accuracy_score(y_test, y_predict)}')\n",
    "    \n",
    "    print(f'Confusion Matrix= {metrics.confusion_matrix(y_test, y_predict)}')\n",
    "    \n",
    "    target_names = ['class 0', 'class 1']\n",
    "    print(f'class_r= {metrics.classification_report(y_test, y_predict, target_names=target_names)}')\n",
    "    "
   ]
  },
  {
   "cell_type": "code",
   "execution_count": 64,
   "id": "c0fdfc55",
   "metadata": {},
   "outputs": [],
   "source": [
    "from sklearn.neighbors import KNeighborsClassifier\n",
    "from sklearn.tree import DecisionTreeClassifier\n",
    "from sklearn.linear_model import LogisticRegression\n",
    "from sklearn.ensemble import RandomForestClassifier"
   ]
  },
  {
   "cell_type": "code",
   "execution_count": 65,
   "id": "081c6670",
   "metadata": {},
   "outputs": [
    {
     "name": "stdout",
     "output_type": "stream",
     "text": [
      "Predictions: [0 0 0 0 0 0 0 0 0 0 0 0 0 0 0 0 0 0 0 0 0 0 0 0 0 0 0]\n",
      "Accuracy_Score= 0.9259259259259259\n",
      "Confusion Matrix= [[25  0]\n",
      " [ 2  0]]\n",
      "class_r=               precision    recall  f1-score   support\n",
      "\n",
      "     class 0       0.93      1.00      0.96        25\n",
      "     class 1       0.00      0.00      0.00         2\n",
      "\n",
      "    accuracy                           0.93        27\n",
      "   macro avg       0.46      0.50      0.48        27\n",
      "weighted avg       0.86      0.93      0.89        27\n",
      "\n"
     ]
    }
   ],
   "source": [
    "predict(RandomForestClassifier())"
   ]
  },
  {
   "cell_type": "code",
   "execution_count": 66,
   "id": "cc5ec7f5",
   "metadata": {},
   "outputs": [
    {
     "name": "stdout",
     "output_type": "stream",
     "text": [
      "Predictions: [0 0 0 0 0 0 0 0 0 0 0 0 0 0 0 0 0 0 0 0 0 0 0 0 0 0 0]\n",
      "Accuracy_Score= 0.9259259259259259\n",
      "Confusion Matrix= [[25  0]\n",
      " [ 2  0]]\n",
      "class_r=               precision    recall  f1-score   support\n",
      "\n",
      "     class 0       0.93      1.00      0.96        25\n",
      "     class 1       0.00      0.00      0.00         2\n",
      "\n",
      "    accuracy                           0.93        27\n",
      "   macro avg       0.46      0.50      0.48        27\n",
      "weighted avg       0.86      0.93      0.89        27\n",
      "\n"
     ]
    }
   ],
   "source": [
    "predict(LogisticRegression())"
   ]
  },
  {
   "cell_type": "code",
   "execution_count": 67,
   "id": "6c3747ab",
   "metadata": {},
   "outputs": [
    {
     "name": "stdout",
     "output_type": "stream",
     "text": [
      "Predictions: [0 0 0 0 0 0 0 0 0 0 0 0 0 0 0 0 0 0 0 0 0 0 0 0 0 0 0]\n",
      "Accuracy_Score= 0.9259259259259259\n",
      "Confusion Matrix= [[25  0]\n",
      " [ 2  0]]\n",
      "class_r=               precision    recall  f1-score   support\n",
      "\n",
      "     class 0       0.93      1.00      0.96        25\n",
      "     class 1       0.00      0.00      0.00         2\n",
      "\n",
      "    accuracy                           0.93        27\n",
      "   macro avg       0.46      0.50      0.48        27\n",
      "weighted avg       0.86      0.93      0.89        27\n",
      "\n"
     ]
    }
   ],
   "source": [
    "predict(KNeighborsClassifier())"
   ]
  },
  {
   "cell_type": "code",
   "execution_count": 68,
   "id": "51d11b99",
   "metadata": {},
   "outputs": [
    {
     "name": "stdout",
     "output_type": "stream",
     "text": [
      "Predictions: [0 0 0 0 0 0 0 0 0 0 0 0 0 0 0 0 0 0 0 0 0 0 0 0 0 0 0]\n",
      "Accuracy_Score= 0.9259259259259259\n",
      "Confusion Matrix= [[25  0]\n",
      " [ 2  0]]\n",
      "class_r=               precision    recall  f1-score   support\n",
      "\n",
      "     class 0       0.93      1.00      0.96        25\n",
      "     class 1       0.00      0.00      0.00         2\n",
      "\n",
      "    accuracy                           0.93        27\n",
      "   macro avg       0.46      0.50      0.48        27\n",
      "weighted avg       0.86      0.93      0.89        27\n",
      "\n"
     ]
    }
   ],
   "source": [
    "predict(DecisionTreeClassifier())"
   ]
  },
  {
   "cell_type": "markdown",
   "id": "ca4b7b9a",
   "metadata": {},
   "source": [
    "**Conclusion- All classifiers show similar performance for this simple classification model. \n",
    "This databases was further developed and used to predict the contract default for next years**"
   ]
  },
  {
   "cell_type": "code",
   "execution_count": null,
   "id": "81b044c4",
   "metadata": {},
   "outputs": [],
   "source": []
  }
 ],
 "metadata": {
  "kernelspec": {
   "display_name": "Python 3",
   "language": "python",
   "name": "python3"
  },
  "language_info": {
   "codemirror_mode": {
    "name": "ipython",
    "version": 3
   },
   "file_extension": ".py",
   "mimetype": "text/x-python",
   "name": "python",
   "nbconvert_exporter": "python",
   "pygments_lexer": "ipython3",
   "version": "3.8.8"
  }
 },
 "nbformat": 4,
 "nbformat_minor": 5
}
